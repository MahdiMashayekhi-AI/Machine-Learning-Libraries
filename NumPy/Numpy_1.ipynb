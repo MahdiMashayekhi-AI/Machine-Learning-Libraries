{
  "nbformat": 4,
  "nbformat_minor": 0,
  "metadata": {
    "colab": {
      "provenance": [],
      "toc_visible": true
    },
    "kernelspec": {
      "name": "python3",
      "display_name": "Python 3"
    },
    "language_info": {
      "name": "python"
    }
  },
  "cells": [
    {
      "cell_type": "markdown",
      "source": [
        "# NumPy Library"
      ],
      "metadata": {
        "id": "8VYAnUHw-roU"
      }
    },
    {
      "cell_type": "markdown",
      "source": [
        "NumPy is the fundamental package for scientific computing in Python. It is a Python library that provides a multidimensional array object, various derived objects (such as masked arrays and matrices), and an assortment of routines for fast operations on arrays, including mathematical, logical, shape manipulation, sorting, selecting, I/O, discrete Fourier transforms, basic linear algebra, basic statistical operations, random simulation and much more.\n",
        "\n"
      ],
      "metadata": {
        "id": "q3uU5-z3-zlt"
      }
    },
    {
      "cell_type": "markdown",
      "source": [
        "## Installing NumPy"
      ],
      "metadata": {
        "id": "cWcGXpXd_oML"
      }
    },
    {
      "cell_type": "code",
      "source": [
        "!pip install numpy"
      ],
      "metadata": {
        "id": "j9fgHQfK_v5K"
      },
      "execution_count": null,
      "outputs": []
    },
    {
      "cell_type": "markdown",
      "source": [
        "## Importing the NumPy"
      ],
      "metadata": {
        "id": "MNobMgML_128"
      }
    },
    {
      "cell_type": "code",
      "source": [
        "import numpy as np # np is abbreviation"
      ],
      "metadata": {
        "id": "vNZ37HZ1_7tq"
      },
      "execution_count": 1,
      "outputs": []
    },
    {
      "cell_type": "markdown",
      "source": [
        "## Create an array"
      ],
      "metadata": {
        "id": "Qh_ud08TAQGk"
      }
    },
    {
      "cell_type": "code",
      "source": [
        "# 0D\n",
        "myArr = np.array([1])\n",
        "print(myArr)"
      ],
      "metadata": {
        "colab": {
          "base_uri": "https://localhost:8080/"
        },
        "id": "7tqkcTBvAtz7",
        "outputId": "e4c35fab-c208-49f4-f46e-35e18c04178d"
      },
      "execution_count": 2,
      "outputs": [
        {
          "output_type": "stream",
          "name": "stdout",
          "text": [
            "[1]\n"
          ]
        }
      ]
    },
    {
      "cell_type": "code",
      "source": [
        "# 1D\n",
        "myArr = np.array([1, 2, 3, 4, 5, 6, 7, 8])\n",
        "print(myArr)"
      ],
      "metadata": {
        "colab": {
          "base_uri": "https://localhost:8080/"
        },
        "id": "dDxG5qCnATE8",
        "outputId": "1ef7dad1-97ab-494e-9f69-7e3d97d41c28"
      },
      "execution_count": 3,
      "outputs": [
        {
          "output_type": "stream",
          "name": "stdout",
          "text": [
            "[1 2 3 4 5 6 7 8]\n"
          ]
        }
      ]
    },
    {
      "cell_type": "code",
      "source": [
        "# 2D\n",
        "myArr = np.array([[1, 2, 3, 4],\n",
        "                  [5, 6, 7, 8]])\n",
        "\n",
        "print(myArr)"
      ],
      "metadata": {
        "colab": {
          "base_uri": "https://localhost:8080/"
        },
        "id": "dPDwPoLyA1Qj",
        "outputId": "87493f14-a6ba-43e3-9777-13066cd97c6b"
      },
      "execution_count": 4,
      "outputs": [
        {
          "output_type": "stream",
          "name": "stdout",
          "text": [
            "[[1 2 3 4]\n",
            " [5 6 7 8]]\n"
          ]
        }
      ]
    },
    {
      "cell_type": "code",
      "source": [
        "# 3D\n",
        "myArr = np.array([[[1, 2, 3, 4],\n",
        "                   [5, 6, 7, 8]],\n",
        "                  [[1, 2, 3, 4],\n",
        "                   [5, 6, 7, 8]]])\n",
        "\n",
        "print(myArr)"
      ],
      "metadata": {
        "colab": {
          "base_uri": "https://localhost:8080/"
        },
        "id": "bweWWCrNBJIc",
        "outputId": "12dc96ac-8340-45fc-8503-c678900442bc"
      },
      "execution_count": 5,
      "outputs": [
        {
          "output_type": "stream",
          "name": "stdout",
          "text": [
            "[[[1 2 3 4]\n",
            "  [5 6 7 8]]\n",
            "\n",
            " [[1 2 3 4]\n",
            "  [5 6 7 8]]]\n"
          ]
        }
      ]
    },
    {
      "cell_type": "markdown",
      "source": [
        "### Zeros array"
      ],
      "metadata": {
        "id": "szAQbMrECRGz"
      }
    },
    {
      "cell_type": "code",
      "source": [
        "a = np.zeros(5)\n",
        "print(a)"
      ],
      "metadata": {
        "colab": {
          "base_uri": "https://localhost:8080/"
        },
        "id": "UfcNVJ0yCNez",
        "outputId": "07afcba1-ac07-4370-a50f-7cd24836799c"
      },
      "execution_count": 6,
      "outputs": [
        {
          "output_type": "stream",
          "name": "stdout",
          "text": [
            "[0. 0. 0. 0. 0.]\n"
          ]
        }
      ]
    },
    {
      "cell_type": "code",
      "source": [
        "a = np.zeros([5, 5])\n",
        "print(a)"
      ],
      "metadata": {
        "colab": {
          "base_uri": "https://localhost:8080/"
        },
        "id": "JNZoUP33CdMb",
        "outputId": "b6b8c3ac-b965-424d-aebc-2391e27357f7"
      },
      "execution_count": 9,
      "outputs": [
        {
          "output_type": "stream",
          "name": "stdout",
          "text": [
            "[[0. 0. 0. 0. 0.]\n",
            " [0. 0. 0. 0. 0.]\n",
            " [0. 0. 0. 0. 0.]\n",
            " [0. 0. 0. 0. 0.]\n",
            " [0. 0. 0. 0. 0.]]\n"
          ]
        }
      ]
    },
    {
      "cell_type": "markdown",
      "source": [
        "### Ones array"
      ],
      "metadata": {
        "id": "8FEELT-TCqGD"
      }
    },
    {
      "cell_type": "code",
      "source": [
        "b = np.ones(5)\n",
        "print(b)"
      ],
      "metadata": {
        "colab": {
          "base_uri": "https://localhost:8080/"
        },
        "id": "ZGP6IaPMCumJ",
        "outputId": "4082bffa-892f-441e-887b-07b0c8d73acb"
      },
      "execution_count": 10,
      "outputs": [
        {
          "output_type": "stream",
          "name": "stdout",
          "text": [
            "[1. 1. 1. 1. 1.]\n"
          ]
        }
      ]
    },
    {
      "cell_type": "code",
      "source": [
        "b = np.ones([5, 5])\n",
        "print(b)"
      ],
      "metadata": {
        "colab": {
          "base_uri": "https://localhost:8080/"
        },
        "id": "vpWT0oeFC3RE",
        "outputId": "af4c02d3-684e-463d-d196-b28f6bb6780c"
      },
      "execution_count": 11,
      "outputs": [
        {
          "output_type": "stream",
          "name": "stdout",
          "text": [
            "[[1. 1. 1. 1. 1.]\n",
            " [1. 1. 1. 1. 1.]\n",
            " [1. 1. 1. 1. 1.]\n",
            " [1. 1. 1. 1. 1.]\n",
            " [1. 1. 1. 1. 1.]]\n"
          ]
        }
      ]
    },
    {
      "cell_type": "markdown",
      "source": [
        "### Empty array"
      ],
      "metadata": {
        "id": "ceAweJyTDCQr"
      }
    },
    {
      "cell_type": "code",
      "source": [
        "c = np.empty(5)\n",
        "print(c)"
      ],
      "metadata": {
        "colab": {
          "base_uri": "https://localhost:8080/"
        },
        "id": "mky9DvEGDCZj",
        "outputId": "e4a632ef-fd06-4b0d-f9f5-925e737b4b07"
      },
      "execution_count": 12,
      "outputs": [
        {
          "output_type": "execute_result",
          "data": {
            "text/plain": [
              "array([1., 1., 1., 1., 1.])"
            ]
          },
          "metadata": {},
          "execution_count": 12
        }
      ]
    },
    {
      "cell_type": "code",
      "source": [
        "c = np.empty([5, 5])\n",
        "print(c)"
      ],
      "metadata": {
        "colab": {
          "base_uri": "https://localhost:8080/"
        },
        "id": "vnW5hmniDIgD",
        "outputId": "abaff639-be9f-435c-965d-4caa3560d1ed"
      },
      "execution_count": 13,
      "outputs": [
        {
          "output_type": "stream",
          "name": "stdout",
          "text": [
            "[[1. 1. 1. 1. 1.]\n",
            " [1. 1. 1. 1. 1.]\n",
            " [1. 1. 1. 1. 1.]\n",
            " [1. 1. 1. 1. 1.]\n",
            " [1. 1. 1. 1. 1.]]\n"
          ]
        }
      ]
    },
    {
      "cell_type": "markdown",
      "source": [
        "### Array range"
      ],
      "metadata": {
        "id": "6QsQXdFODYMU"
      }
    },
    {
      "cell_type": "code",
      "source": [
        "d = np.arange(1, 11)\n",
        "print(d)"
      ],
      "metadata": {
        "colab": {
          "base_uri": "https://localhost:8080/"
        },
        "id": "o-I8n5tPDb0V",
        "outputId": "04652261-caef-4eaf-c3cd-fc7843fff56e"
      },
      "execution_count": 16,
      "outputs": [
        {
          "output_type": "stream",
          "name": "stdout",
          "text": [
            "[ 1  2  3  4  5  6  7  8  9 10]\n"
          ]
        }
      ]
    },
    {
      "cell_type": "code",
      "source": [
        "d = np.arange(1, 11, 2)\n",
        "print(d)"
      ],
      "metadata": {
        "colab": {
          "base_uri": "https://localhost:8080/"
        },
        "id": "pcoGOVCyDhLS",
        "outputId": "510ba4a8-4b17-4ebe-f822-d49582026cef"
      },
      "execution_count": 17,
      "outputs": [
        {
          "output_type": "stream",
          "name": "stdout",
          "text": [
            "[1 3 5 7 9]\n"
          ]
        }
      ]
    },
    {
      "cell_type": "markdown",
      "source": [
        "### Linearly specified "
      ],
      "metadata": {
        "id": "Qw4p5cDrDyXj"
      }
    },
    {
      "cell_type": "code",
      "source": [
        "e = np.linspace(0, 20)\n",
        "print(e)"
      ],
      "metadata": {
        "colab": {
          "base_uri": "https://localhost:8080/"
        },
        "id": "i2su35e6DrYq",
        "outputId": "9b35a903-2748-44be-fa53-be5f096271fa"
      },
      "execution_count": 18,
      "outputs": [
        {
          "output_type": "stream",
          "name": "stdout",
          "text": [
            "[ 0.          0.40816327  0.81632653  1.2244898   1.63265306  2.04081633\n",
            "  2.44897959  2.85714286  3.26530612  3.67346939  4.08163265  4.48979592\n",
            "  4.89795918  5.30612245  5.71428571  6.12244898  6.53061224  6.93877551\n",
            "  7.34693878  7.75510204  8.16326531  8.57142857  8.97959184  9.3877551\n",
            "  9.79591837 10.20408163 10.6122449  11.02040816 11.42857143 11.83673469\n",
            " 12.24489796 12.65306122 13.06122449 13.46938776 13.87755102 14.28571429\n",
            " 14.69387755 15.10204082 15.51020408 15.91836735 16.32653061 16.73469388\n",
            " 17.14285714 17.55102041 17.95918367 18.36734694 18.7755102  19.18367347\n",
            " 19.59183673 20.        ]\n"
          ]
        }
      ]
    },
    {
      "cell_type": "code",
      "source": [
        "e = np.linspace(0, 20, 5)\n",
        "print(e)"
      ],
      "metadata": {
        "colab": {
          "base_uri": "https://localhost:8080/"
        },
        "id": "AlDB0NlJEBED",
        "outputId": "d5e5a744-e42a-4276-d7b8-b6f0a6bc6a43"
      },
      "execution_count": 19,
      "outputs": [
        {
          "output_type": "stream",
          "name": "stdout",
          "text": [
            "[ 0.  5. 10. 15. 20.]\n"
          ]
        }
      ]
    },
    {
      "cell_type": "markdown",
      "source": [
        "## Adding, removing, and sorting elements"
      ],
      "metadata": {
        "id": "xMQBHWqsEVR9"
      }
    },
    {
      "cell_type": "code",
      "source": [
        "arr = np.array([2, 1, 5, 3, 7, 4, 6, 8])"
      ],
      "metadata": {
        "id": "fZMCB7NHEdkN"
      },
      "execution_count": 21,
      "outputs": []
    },
    {
      "cell_type": "markdown",
      "source": [
        "### Sort"
      ],
      "metadata": {
        "id": "1zDD7WuAEipc"
      }
    },
    {
      "cell_type": "code",
      "source": [
        "np.sort(arr)"
      ],
      "metadata": {
        "colab": {
          "base_uri": "https://localhost:8080/"
        },
        "id": "Kle4K1s3ElMk",
        "outputId": "cb0f8d10-156b-4561-ad46-0ce04d17b072"
      },
      "execution_count": 22,
      "outputs": [
        {
          "output_type": "execute_result",
          "data": {
            "text/plain": [
              "array([1, 2, 3, 4, 5, 6, 7, 8])"
            ]
          },
          "metadata": {},
          "execution_count": 22
        }
      ]
    },
    {
      "cell_type": "markdown",
      "source": [
        "### Concatenate"
      ],
      "metadata": {
        "id": "qnypg0IXE00H"
      }
    },
    {
      "cell_type": "code",
      "source": [
        "a = np.array([1, 2, 3, 4])\n",
        "b = np.array([5, 6, 7, 8])"
      ],
      "metadata": {
        "id": "zybzDZC_EoQS"
      },
      "execution_count": 24,
      "outputs": []
    },
    {
      "cell_type": "code",
      "source": [
        "np.concatenate((a, b))"
      ],
      "metadata": {
        "colab": {
          "base_uri": "https://localhost:8080/"
        },
        "id": "yyiy8W8wFSKN",
        "outputId": "b7ca3f83-96a9-40d3-e9aa-ff002098ea77"
      },
      "execution_count": 25,
      "outputs": [
        {
          "output_type": "execute_result",
          "data": {
            "text/plain": [
              "array([1, 2, 3, 4, 5, 6, 7, 8])"
            ]
          },
          "metadata": {},
          "execution_count": 25
        }
      ]
    },
    {
      "cell_type": "markdown",
      "source": [
        "## Shape and size of an array"
      ],
      "metadata": {
        "id": "p6kQdIPtFjiE"
      }
    },
    {
      "cell_type": "code",
      "source": [
        "array_example = np.array([[[0, 1, 2, 3],\n",
        "                           [4, 5, 6, 7]],\n",
        "\n",
        "                          [[0, 1, 2, 3],\n",
        "                           [4, 5, 6, 7]],\n",
        "\n",
        "                          [[0 ,1 ,2, 3],\n",
        "                           [4, 5, 6, 7]]])"
      ],
      "metadata": {
        "id": "uslKAXxnFpCU"
      },
      "execution_count": 26,
      "outputs": []
    },
    {
      "cell_type": "markdown",
      "source": [
        "### Number of dimensions "
      ],
      "metadata": {
        "id": "mx-PpiOFF-42"
      }
    },
    {
      "cell_type": "code",
      "source": [
        "array_example.ndim"
      ],
      "metadata": {
        "colab": {
          "base_uri": "https://localhost:8080/"
        },
        "id": "3gEdQw_AGBR9",
        "outputId": "2d40dd2e-9d1d-4362-b536-14a80ff33e34"
      },
      "execution_count": 27,
      "outputs": [
        {
          "output_type": "execute_result",
          "data": {
            "text/plain": [
              "3"
            ]
          },
          "metadata": {},
          "execution_count": 27
        }
      ]
    },
    {
      "cell_type": "markdown",
      "source": [
        "### Total number of elements"
      ],
      "metadata": {
        "id": "W3dUEhC_GKlD"
      }
    },
    {
      "cell_type": "code",
      "source": [
        "array_example.size"
      ],
      "metadata": {
        "colab": {
          "base_uri": "https://localhost:8080/"
        },
        "id": "NQ94Aoc6GL5f",
        "outputId": "638a10ce-3c01-4e73-d2f9-a07f7b5d790b"
      },
      "execution_count": 28,
      "outputs": [
        {
          "output_type": "execute_result",
          "data": {
            "text/plain": [
              "24"
            ]
          },
          "metadata": {},
          "execution_count": 28
        }
      ]
    },
    {
      "cell_type": "markdown",
      "source": [
        "Shape of an array"
      ],
      "metadata": {
        "id": "cdqvHToTGVE1"
      }
    },
    {
      "cell_type": "code",
      "source": [
        "array_example.shape"
      ],
      "metadata": {
        "colab": {
          "base_uri": "https://localhost:8080/"
        },
        "id": "qv7TZ3CtGa8T",
        "outputId": "f170c365-4f03-4e50-88f6-c3ded1e0407e"
      },
      "execution_count": 29,
      "outputs": [
        {
          "output_type": "execute_result",
          "data": {
            "text/plain": [
              "(3, 2, 4)"
            ]
          },
          "metadata": {},
          "execution_count": 29
        }
      ]
    }
  ]
}